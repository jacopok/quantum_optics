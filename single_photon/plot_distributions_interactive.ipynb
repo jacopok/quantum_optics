{
 "cells": [
  {
   "cell_type": "code",
   "execution_count": 15,
   "metadata": {},
   "outputs": [
    {
     "data": {
      "text/plain": [
       "'3.8.2 (default, Mar 26 2020, 15:53:00) \\n[GCC 7.3.0]'"
      ]
     },
     "execution_count": 15,
     "metadata": {},
     "output_type": "execute_result"
    }
   ],
   "source": [
    "import sys\n",
    "sys.version"
   ]
  },
  {
   "cell_type": "code",
   "execution_count": 20,
   "metadata": {
    "scrolled": true
   },
   "outputs": [],
   "source": [
    "from bayesian_hyp_testing import plot_both_distributions\n",
    "from ipywidgets import interact, FloatLogSlider"
   ]
  },
  {
   "cell_type": "code",
   "execution_count": 21,
   "metadata": {
    "scrolled": false
   },
   "outputs": [
    {
     "data": {
      "application/vnd.jupyter.widget-view+json": {
       "model_id": "3d54effe91b44abb89b19a77b7379f5c",
       "version_major": 2,
       "version_minor": 0
      },
      "text/plain": [
       "interactive(children=(FloatLogSlider(value=100.0, continuous_update=False, description='Size', max=6.0, min=1.…"
      ]
     },
     "metadata": {},
     "output_type": "display_data"
    },
    {
     "data": {
      "text/plain": [
       "<function __main__.f(size, rate, e_rate)>"
      ]
     },
     "execution_count": 21,
     "metadata": {},
     "output_type": "execute_result"
    }
   ],
   "source": [
    "def f(size, rate, e_rate):\n",
    "    plot_both_distributions(int(size), rate, e_rate, N_gate=1_554_341)\n",
    "\n",
    "size_slider = FloatLogSlider(\n",
    "    value=100,\n",
    "    base=10,\n",
    "    min=1, # max exponent of base\n",
    "    max=6, # min exponent of base\n",
    "    step=0.05, # exponent step\n",
    "    continuous_update=False,\n",
    "    description='Size'\n",
    ")\n",
    "\n",
    "rate_slider = FloatLogSlider(\n",
    "    value=0.009466951907668558,\n",
    "    base=10,\n",
    "    min=-4, # max exponent of base\n",
    "    max=0, # min exponent of base\n",
    "    step=0.05, # exponent step\n",
    "    continuous_update=False,\n",
    "    description='Detection rate'\n",
    ")\n",
    "\n",
    "error_slider = FloatLogSlider(\n",
    "    value=.1,\n",
    "    base=10,\n",
    "    min=-6, # max exponent of base\n",
    "    max=0, # min exponent of base\n",
    "    step=0.05, # exponent step\n",
    "    continuous_update=False,\n",
    "    description='Detection error rate'\n",
    ")\n",
    "    \n",
    "interact(f, size=size_slider, rate=rate_slider, e_rate=error_slider)"
   ]
  },
  {
   "cell_type": "code",
   "execution_count": null,
   "metadata": {},
   "outputs": [],
   "source": []
  }
 ],
 "metadata": {
  "kernelspec": {
   "display_name": "Python 3",
   "language": "python",
   "name": "python3"
  },
  "language_info": {
   "codemirror_mode": {
    "name": "ipython",
    "version": 3
   },
   "file_extension": ".py",
   "mimetype": "text/x-python",
   "name": "python",
   "nbconvert_exporter": "python",
   "pygments_lexer": "ipython3",
   "version": "3.8.2"
  }
 },
 "nbformat": 4,
 "nbformat_minor": 4
}
