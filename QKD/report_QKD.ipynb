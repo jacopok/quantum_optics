{
 "metadata": {
  "language_info": {
   "codemirror_mode": {
    "name": "ipython",
    "version": 3
   },
   "file_extension": ".py",
   "mimetype": "text/x-python",
   "name": "python",
   "nbconvert_exporter": "python",
   "pygments_lexer": "ipython3",
   "version": "3.8.6-final"
  },
  "orig_nbformat": 2,
  "kernelspec": {
   "name": "Python 3.8.6 64-bit ('python38env': conda)",
   "display_name": "Python 3.8.6 64-bit ('python38env': conda)",
   "metadata": {
    "interpreter": {
     "hash": "d55324eb18c54775625b70d0acf23726c6b877bc32c1284a5dab775673b6545a"
    }
   }
  }
 },
 "nbformat": 4,
 "nbformat_minor": 2,
 "cells": [
  {
   "cell_type": "code",
   "execution_count": 14,
   "metadata": {},
   "outputs": [
    {
     "output_type": "display_data",
     "data": {
      "text/plain": "<IPython.core.display.Markdown object>",
      "text/markdown": "\n# QKD \n\nThe way coincidences are calculated here is exactly analogous to what was done in the [Bell inequalities](https://nbviewer.jupyter.org/github/jacopok/quantum_optics/blob/master/bell_test/report_bell_test.ipynb) case. \n\nNow, instead of 16 possibilities we have 8:\nthe multidimensional array of rates is parametrized through the indices\n`basis`, equal to 0 for $H-V$ and to 1 for $A-D$, and `pol_1` and `pol_2`, each going from 0 to 1, to select the polarization choice between either HH, HV, VH, VV or AA, AD, DA, DD.\n"
     },
     "metadata": {}
    }
   ],
   "source": [
    "%%markdown\n",
    "\n",
    "# QKD \n",
    "\n",
    "The way coincidences are calculated here is exactly analogous to what was done in the [Bell inequalities](https://nbviewer.jupyter.org/github/jacopok/quantum_optics/blob/master/bell_test/report_bell_test.ipynb) case. \n",
    "\n",
    "Now, instead of 16 possibilities we have 8:\n",
    "the multidimensional array of rates is parametrized through the indices\n",
    "`basis`, equal to 0 for $H-V$ and to 1 for $A-D$, and `pol_1` and `pol_2`, each going from 0 to 1, to select the polarization choice between either HH, HV, VH, VV or AA, AD, DA, DD."
   ]
  },
  {
   "cell_type": "code",
   "execution_count": 19,
   "metadata": {},
   "outputs": [
    {
     "output_type": "stream",
     "name": "stdout",
     "text": [
      "HH: (350+/-5)Hz\nHV: (2.1+/-0.4)Hz\nVH: (5.4+/-0.6)Hz\nVV: (348+/-4)Hz\nAA: (351+/-5)Hz\nAD: (11.7+/-0.6)Hz\nDA: (9.7+/-0.7)Hz\nDD: (339+/-4)Hz\n[[[350.39192197439604+/-4.999989798094076\n   2.066886381808053+/-0.3653773441296505]\n  [5.430754878172893+/-0.5661953356549106\n   347.5832976117349+/-4.0737390818457095]]\n\n [[350.6528852344143+/-4.68370580582379\n   11.713315465776578+/-0.5521709864018588]\n  [9.73167542328069+/-0.7356455145714269\n   338.9756865661347+/-3.7193974213980847]]]\n[[['HH' 'HV']\n  ['VH' 'VV']]\n\n [['AA' 'AD']\n  ['DA' 'DD']]]\n"
     ]
    }
   ],
   "source": [
    "from analysis import compute_rates, names\n",
    "\n",
    "# here is the code for the computation of all the rates\n",
    "\n",
    "# r = compute_rates()\n",
    "# np.save('r.npy', r)\n",
    "\n",
    "# the computation takes a couple minutes, so we load from a precalculated file instead\n",
    "\n",
    "r = np.load('r.npy', allow_pickle=True)\n",
    "\n",
    "for x in (it := np.nditer(r, flags=['multi_index', 'refs_ok'])):\n",
    "    print(f'{names[it.multi_index]}: ({x})Hz')"
   ]
  },
  {
   "cell_type": "code",
   "execution_count": 7,
   "metadata": {},
   "outputs": [
    {
     "output_type": "display_data",
     "data": {
      "text/plain": "<IPython.core.display.Markdown object>",
      "text/markdown": "\nThe QBER is defined as the probability of observing photons in the wrong polarizations.\nAs in the Bell inequalities case, we can compute it through the number counts: \nwe add the rates corresponding to the \"wrong\" combinations (the cross ones: HV, VH or AD, DA).\n\nFrom this \n"
     },
     "metadata": {}
    }
   ],
   "source": [
    "%%markdown\n",
    "\n",
    "The QBER is defined as the probability of observing photons in the wrong polarizations.\n",
    "As in the Bell inequalities case, we can compute it through the number counts: \n",
    "we add the rates corresponding to the \"wrong\" combinations (the cross ones: HV, VH or AD, DA).\n",
    "\n",
    "From this "
   ]
  },
  {
   "cell_type": "code",
   "execution_count": null,
   "metadata": {},
   "outputs": [],
   "source": []
  },
  {
   "cell_type": "code",
   "execution_count": 8,
   "metadata": {},
   "outputs": [
    {
     "output_type": "stream",
     "name": "stdout",
     "text": [
      "QBER for the H-V basis: 0.0106+/-0.0010\nQBER for the A-D basis: 0.0302+/-0.0013\nSecret key probability = 0.720+/-0.009\nTransmission rate = (346.9+/-2.2)Hz\nOptimal secret key rate = (124.9+/-1.8)Hz\n"
     ]
    }
   ],
   "source": [
    "from analysis import QBER\n",
    "from uncertainties.umath import log\n",
    "\n",
    "QBER_HV = QBER(0, r)\n",
    "QBER_AD = QBER(1, r)\n",
    "\n",
    "print(f'QBER for the H-V basis: {QBER_HV}')\n",
    "print(f'QBER for the A-D basis: {QBER_AD}')\n",
    "\n",
    "# binary entropy for the probability q\n",
    "h = lambda q : - (q * log(q) + (1-q) * log(1-q)) / log(2)\n",
    "\n",
    "secret_key_probability = 1 - h(QBER_HV) - h(QBER_AD)\n",
    "\n",
    "print(f'Secret key probability = {secret_key_probability}')\n",
    "\n",
    "# average the rates for HH, VV, AA, DD\n",
    "transmission_rate = np.sum(np.trace(r, axis1=1, axis2=2)) / 4\n",
    "\n",
    "print(f'Transmission rate = ({transmission_rate})Hz')\n",
    "\n",
    "# for each entangled pair the bases are chosen randomly,\n",
    "# half of the time they will be different\n",
    "# and the pair will be discarded\n",
    "same_basis_probability = .5 \n",
    "\n",
    "print(f'Optimal secret key rate = ({transmission_rate * same_basis_probability * secret_key_probability})Hz')"
   ]
  },
  {
   "cell_type": "code",
   "execution_count": null,
   "metadata": {},
   "outputs": [],
   "source": []
  },
  {
   "cell_type": "code",
   "execution_count": null,
   "metadata": {},
   "outputs": [],
   "source": []
  }
 ]
}